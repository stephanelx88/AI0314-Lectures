{
 "cells": [
  {
   "cell_type": "code",
   "execution_count": 2,
   "metadata": {},
   "outputs": [
    {
     "name": "stdout",
     "output_type": "stream",
     "text": [
      "<class 'str'>\n",
      "hello world!\n",
      "How are you?\n"
     ]
    }
   ],
   "source": [
    "# kết nối với file\n",
    "a_file = open('hello_world.txt','r') \n",
    "\n",
    "# read content as string\n",
    "data = a_file.read()\n",
    "\n",
    "print(type(data))\n",
    "print(data)\n",
    "\n",
    "# Đóng kết nối với file\n",
    "a_file.close()"
   ]
  },
  {
   "cell_type": "code",
   "execution_count": null,
   "metadata": {},
   "outputs": [],
   "source": []
  },
  {
   "cell_type": "code",
   "execution_count": 3,
   "metadata": {},
   "outputs": [
    {
     "name": "stdout",
     "output_type": "stream",
     "text": [
      "hello world!\n",
      "\n",
      "How are you?\n"
     ]
    }
   ],
   "source": [
    "# kết nối với file\n",
    "a_file = open('hello_world.txt','r') \n",
    "\n",
    "# read content as string\n",
    "lines = a_file.readlines()\n",
    "for line in lines:\n",
    "    print(line)\n",
    "\n",
    "# Đóng kết nối với file\n",
    "a_file.close()"
   ]
  },
  {
   "cell_type": "code",
   "execution_count": null,
   "metadata": {},
   "outputs": [],
   "source": []
  },
  {
   "cell_type": "code",
   "execution_count": 5,
   "metadata": {},
   "outputs": [
    {
     "ename": "NameError",
     "evalue": "name 'file_name' is not defined",
     "output_type": "error",
     "traceback": [
      "\u001b[1;31m---------------------------------------------------------------------------\u001b[0m",
      "\u001b[1;31mNameError\u001b[0m                                 Traceback (most recent call last)",
      "\u001b[1;32m<ipython-input-5-e1872ddbc4eb>\u001b[0m in \u001b[0;36m<module>\u001b[1;34m\u001b[0m\n\u001b[0;32m      1\u001b[0m \u001b[1;31m# kết nối với file\u001b[0m\u001b[1;33m\u001b[0m\u001b[1;33m\u001b[0m\u001b[1;33m\u001b[0m\u001b[0m\n\u001b[1;32m----> 2\u001b[1;33m \u001b[0mvar_file\u001b[0m \u001b[1;33m=\u001b[0m \u001b[0mopen\u001b[0m\u001b[1;33m(\u001b[0m\u001b[0mfile_name\u001b[0m\u001b[1;33m,\u001b[0m \u001b[0mmode\u001b[0m\u001b[1;33m)\u001b[0m\u001b[1;33m\u001b[0m\u001b[1;33m\u001b[0m\u001b[0m\n\u001b[0m\u001b[0;32m      3\u001b[0m \u001b[1;33m\u001b[0m\u001b[0m\n\u001b[0;32m      4\u001b[0m \u001b[1;31m# ...\u001b[0m\u001b[1;33m\u001b[0m\u001b[1;33m\u001b[0m\u001b[1;33m\u001b[0m\u001b[0m\n\u001b[0;32m      5\u001b[0m \u001b[1;31m# ...\u001b[0m\u001b[1;33m\u001b[0m\u001b[1;33m\u001b[0m\u001b[1;33m\u001b[0m\u001b[0m\n",
      "\u001b[1;31mNameError\u001b[0m: name 'file_name' is not defined"
     ]
    }
   ],
   "source": [
    "# kết nối với file\n",
    "var_file = open(file_name, mode)\n",
    "\n",
    "# ...\n",
    "# ...\n",
    "\n",
    "# Đóng kết nối với file\n",
    "var_file.close()"
   ]
  },
  {
   "cell_type": "code",
   "execution_count": null,
   "metadata": {},
   "outputs": [],
   "source": []
  },
  {
   "cell_type": "code",
   "execution_count": 5,
   "metadata": {},
   "outputs": [],
   "source": [
    "# kết nối với file\n",
    "a_file = open('new_file.txt', 'w') \n",
    "\n",
    "text1 = 'content in line 1 \\n'\n",
    "a_file.write(text1)\n",
    "\n",
    "text2 = 'content in line 2 \\n'\n",
    "a_file.write(text2)\n",
    "\n",
    "# Đóng kết nối với file\n",
    "a_file.close()"
   ]
  },
  {
   "cell_type": "code",
   "execution_count": null,
   "metadata": {},
   "outputs": [],
   "source": []
  },
  {
   "cell_type": "code",
   "execution_count": 1,
   "metadata": {},
   "outputs": [],
   "source": [
    "# kết nối với file\n",
    "a_file = open('non_existing_file.txt', 'a') \n",
    "\n",
    "text3 = 'content in line 3 \\n'\n",
    "a_file.write(text3)\n",
    "\n",
    "# Đóng kết nối với file\n",
    "a_file.close()"
   ]
  },
  {
   "cell_type": "code",
   "execution_count": null,
   "metadata": {},
   "outputs": [],
   "source": []
  },
  {
   "cell_type": "code",
   "execution_count": null,
   "metadata": {},
   "outputs": [],
   "source": [
    "# kết nối với file\n",
    "a_file = open('new_file.txt', 'a') \n",
    "\n",
    "text3 = 'content in line 3 \\n'\n",
    "a_file.write(text3)\n",
    "\n",
    "# Đóng kết nối với file\n",
    "a_file.close()"
   ]
  },
  {
   "cell_type": "code",
   "execution_count": null,
   "metadata": {},
   "outputs": [],
   "source": []
  },
  {
   "cell_type": "code",
   "execution_count": 14,
   "metadata": {},
   "outputs": [
    {
     "name": "stdout",
     "output_type": "stream",
     "text": [
      "001\n",
      "john\n",
      "12-06-1999\n"
     ]
    }
   ],
   "source": [
    "string1 = '001,john,12-06-1999'\n",
    "tokens  = string1.split(',')\n",
    "\n",
    "for token in tokens:\n",
    "    print(token)"
   ]
  },
  {
   "cell_type": "code",
   "execution_count": null,
   "metadata": {},
   "outputs": [],
   "source": []
  },
  {
   "cell_type": "code",
   "execution_count": 16,
   "metadata": {},
   "outputs": [
    {
     "name": "stdout",
     "output_type": "stream",
     "text": [
      "001,john,12-06-1999\n"
     ]
    }
   ],
   "source": [
    "student_info  = ['001', 'john', '12-06-1999']\n",
    "string_joined = (',').join(student_info)\n",
    "\n",
    "print(string_joined)"
   ]
  },
  {
   "cell_type": "code",
   "execution_count": null,
   "metadata": {},
   "outputs": [],
   "source": []
  },
  {
   "cell_type": "code",
   "execution_count": null,
   "metadata": {},
   "outputs": [],
   "source": []
  },
  {
   "cell_type": "code",
   "execution_count": null,
   "metadata": {},
   "outputs": [],
   "source": []
  },
  {
   "cell_type": "code",
   "execution_count": 14,
   "metadata": {},
   "outputs": [],
   "source": [
    "# kết nối với file\n",
    "file_path = 'my_file.txt'\n",
    "file_handle = open(file_path, 'w') \n",
    "\n",
    "text3 = 'writing line 3 \\n'\n",
    "file_handle.write(text3)\n",
    "\n",
    "# Đóng kết nối với file\n",
    "file_handle.close()"
   ]
  },
  {
   "cell_type": "code",
   "execution_count": null,
   "metadata": {},
   "outputs": [],
   "source": []
  },
  {
   "cell_type": "code",
   "execution_count": 16,
   "metadata": {},
   "outputs": [],
   "source": [
    "# kết nối với file\n",
    "file_path = 'my_file.txt'\n",
    "file_handle = open(file_path, 'a') \n",
    "\n",
    "text4 = 'writing line 4 \\n'\n",
    "file_handle.write(text4)\n",
    "\n",
    "# Đóng kết nối với file\n",
    "file_handle.close()"
   ]
  },
  {
   "cell_type": "code",
   "execution_count": null,
   "metadata": {},
   "outputs": [],
   "source": []
  },
  {
   "cell_type": "code",
   "execution_count": 12,
   "metadata": {},
   "outputs": [
    {
     "name": "stdout",
     "output_type": "stream",
     "text": [
      "my_file.txt có tồn tại không? True\n",
      "non_existence_file.txt có tồn tại không? False\n"
     ]
    }
   ],
   "source": [
    "import os\n",
    "\n",
    "file_path1 = 'my_file.txt'\n",
    "check1 = os.path.exists(file_path1)\n",
    "print('my_file.txt có tồn tại không?', check1)\n",
    "\n",
    "file_path2 = 'non_existence_file.txt'\n",
    "check2 = os.path.exists(file_path2)\n",
    "print('non_existence_file.txt có tồn tại không?', check2)"
   ]
  },
  {
   "cell_type": "code",
   "execution_count": null,
   "metadata": {},
   "outputs": [],
   "source": []
  },
  {
   "cell_type": "code",
   "execution_count": 18,
   "metadata": {},
   "outputs": [
    {
     "name": "stdout",
     "output_type": "stream",
     "text": [
      "john\n"
     ]
    }
   ],
   "source": [
    "line = '001,john,12-06-1999'\n",
    "\n",
    "# vì một thuộc tính cách nhau 1 dấu ',' \n",
    "# nên hàm split chuyển về một mảng với mỗi index tương ứng như thứ tự xuất hiện \n",
    "infor = line.split(',')\n",
    "\n",
    "# ở đây tên của học sinh ở cột thứ 2 tương ứng trong python index là 1.\n",
    "print(infor[1])"
   ]
  },
  {
   "cell_type": "code",
   "execution_count": 19,
   "metadata": {},
   "outputs": [
    {
     "name": "stdout",
     "output_type": "stream",
     "text": [
      "001,john,12-06-1999\n"
     ]
    }
   ],
   "source": [
    "infor = ['001','john','12-06-1999']\n",
    "st = (',').join(infor)\n",
    "print(st)"
   ]
  },
  {
   "cell_type": "code",
   "execution_count": null,
   "metadata": {},
   "outputs": [],
   "source": []
  },
  {
   "cell_type": "code",
   "execution_count": 18,
   "metadata": {},
   "outputs": [
    {
     "name": "stdout",
     "output_type": "stream",
     "text": [
      "area,price\n",
      "\n",
      "6.7,9.1\n",
      "\n",
      "4.6,5.9\n",
      "\n",
      "3.5,4.6\n",
      "\n",
      "5.5,6.7\n"
     ]
    }
   ],
   "source": [
    "# kết nối với file\n",
    "file = open('data.csv','r')\n",
    "\n",
    "# read lines\n",
    "lines = file.readlines()\n",
    "\n",
    "# in các dòng\n",
    "for line in lines:\n",
    "    print(line)\n",
    "    \n",
    "# Đóng kết nối với file\n",
    "file.close()"
   ]
  },
  {
   "cell_type": "code",
   "execution_count": 19,
   "metadata": {},
   "outputs": [
    {
     "name": "stdout",
     "output_type": "stream",
     "text": [
      "Petal_Length, Petal_Width, Label\n",
      "\n",
      "1.4,0.2,0.0\n",
      "\n",
      "1.5,0.2,0.0\n",
      "\n",
      "3.0,1.1,1.0\n",
      "\n",
      "4.1,1.3,1.0\n"
     ]
    }
   ],
   "source": [
    "# kết nối với file\n",
    "file = open('iris_demo.csv','r')\n",
    "\n",
    "# read lines\n",
    "lines = file.readlines()\n",
    "\n",
    "# in các dòng\n",
    "for line in lines:\n",
    "    print(line)\n",
    "    \n",
    "# Đóng kết nối với file\n",
    "file.close()"
   ]
  },
  {
   "cell_type": "code",
   "execution_count": null,
   "metadata": {},
   "outputs": [],
   "source": []
  },
  {
   "cell_type": "code",
   "execution_count": 6,
   "metadata": {},
   "outputs": [
    {
     "name": "stdout",
     "output_type": "stream",
     "text": [
      "<class 'list'>\n",
      "----------------\n",
      "Id,SepalLengthCm,SepalWidthCm,PetalLengthCm,PetalWidthCm,Species\n",
      "\n",
      "1,5.1,3.5,1.4,0.2,Iris-setosa\n",
      "\n",
      "2,4.9,3.0,1.4,0.2,Iris-setosa\n",
      "\n",
      "3,4.7,3.2,1.3,0.2,Iris-setosa\n",
      "\n",
      "4,4.6,3.1,1.5,0.2,Iris-setosa\n",
      "\n",
      "5,5.0,3.6,1.4,0.2,Iris-setosa\n",
      "\n",
      "6,5.4,3.9,1.7,0.4,Iris-setosa\n",
      "\n",
      "7,4.6,3.4,1.4,0.3,Iris-setosa\n",
      "\n",
      "8,5.0,3.4,1.5,0.2,Iris-setosa\n",
      "\n",
      "9,4.4,2.9,1.4,0.2,Iris-setosa\n",
      "\n"
     ]
    }
   ],
   "source": [
    "# kết nối với file\n",
    "file = open('Iris.csv','r')\n",
    "\n",
    "# readlines giúp việc đọc file theo từng dòng , mỗi dòng là 1 chuỗi\n",
    "lines = file.readlines()\n",
    "\n",
    "print(type(lines))\n",
    "print('---------------')\n",
    "\n",
    "# in 10 dòng đầu tiên\n",
    "for i in range(10): \n",
    "    print(lines[i])\n",
    "    \n",
    "# Đóng kết nối với file\n",
    "file.close()"
   ]
  },
  {
   "cell_type": "code",
   "execution_count": 17,
   "metadata": {},
   "outputs": [
    {
     "name": "stdout",
     "output_type": "stream",
     "text": [
      "Id; SepalLengthCm; SepalWidthCm; PetalLengthCm; PetalWidthCm; Species\n",
      "\n",
      "1; 5.1; 3.5; 1.4; 0.2; Iris-setosa\n",
      "\n",
      "2; 4.9; 3.0; 1.4; 0.2; Iris-setosa\n",
      "\n",
      "3; 4.7; 3.2; 1.3; 0.2; Iris-setosa\n",
      "\n",
      "4; 4.6; 3.1; 1.5; 0.2; Iris-setosa\n",
      "\n",
      "5; 5.0; 3.6; 1.4; 0.2; Iris-setosa\n",
      "\n",
      "6; 5.4; 3.9; 1.7; 0.4; Iris-setosa\n",
      "\n",
      "7; 4.6; 3.4; 1.4; 0.3; Iris-setosa\n",
      "\n",
      "8; 5.0; 3.4; 1.5; 0.2; Iris-setosa\n",
      "\n",
      "9; 4.4; 2.9; 1.4; 0.2; Iris-setosa\n",
      "\n"
     ]
    }
   ],
   "source": [
    "# kết nối với file\n",
    "file = open('Iris.csv','r')\n",
    "\n",
    "# readlines giúp việc đọc file theo từng dòng , mỗi dòng là 1 chuỗi\n",
    "lines = file.readlines()\n",
    "\n",
    "# in 10 dòng đầu tiên\n",
    "for i in range(10): \n",
    "    string = lines[i].split(',')\n",
    "    print('%s; %s; %s; %s; %s; %s' % \n",
    "          (string[0], string[1], string[2], string[3], string[4], string[5]) )\n",
    "    \n",
    "# Đóng kết nối với file\n",
    "file.close()"
   ]
  },
  {
   "cell_type": "code",
   "execution_count": 30,
   "metadata": {},
   "outputs": [
    {
     "name": "stdout",
     "output_type": "stream",
     "text": [
      "5.1; 3.5; 1.4; 0.2; 0\n",
      "4.9; 3.0; 1.4; 0.2; 0\n",
      "4.7; 3.2; 1.3; 0.2; 0\n",
      "4.6; 3.1; 1.5; 0.2; 0\n",
      "5.0; 3.6; 1.4; 0.2; 0\n",
      "5.4; 3.9; 1.7; 0.4; 0\n",
      "4.6; 3.4; 1.4; 0.3; 0\n",
      "5.0; 3.4; 1.5; 0.2; 0\n",
      "4.4; 2.9; 1.4; 0.2; 0\n"
     ]
    }
   ],
   "source": [
    "# kết nối với file\n",
    "file = open('Iris.csv','r')\n",
    "\n",
    "# readlines giúp việc đọc file theo từng dòng , mỗi dòng là 1 chuỗi\n",
    "lines = file.readlines()\n",
    "\n",
    "# in 10 dòng đầu tiên, bỏ dòng header\n",
    "for i in range(1, 10): \n",
    "    string = lines[i].split(',')\n",
    "    \n",
    "    sepal_length = float(string[1].strip())\n",
    "    sepal_width  = float(string[2].strip())\n",
    "    pedal_length = float(string[3].strip())\n",
    "    pedal_width  = float(string[4].strip())\n",
    "    \n",
    "    species = 0\n",
    "    if string[5].strip() == 'Iris-versicolor':\n",
    "        species = 1\n",
    "    elif string[5].strip() == 'Iris-virginica':\n",
    "        species = 2\n",
    "    \n",
    "    \n",
    "    print('%s; %s; %s; %s; %s' % \n",
    "          (sepal_length, sepal_width, pedal_length, pedal_width, species) )\n",
    "    \n",
    "# Đóng kết nối với file\n",
    "file.close()"
   ]
  },
  {
   "cell_type": "code",
   "execution_count": 32,
   "metadata": {},
   "outputs": [
    {
     "name": "stdout",
     "output_type": "stream",
     "text": [
      "[5.1, 3.5, 1.4, 0.2, 0]\n",
      "[7.0, 3.2, 4.7, 1.4, 1]\n",
      "[6.3, 3.3, 6.0, 2.5, 2]\n"
     ]
    }
   ],
   "source": [
    "# kết nối với file\n",
    "file = open('Iris.csv','r')\n",
    "\n",
    "# readlines giúp việc đọc file theo từng dòng , mỗi dòng là 1 chuỗi\n",
    "lines = file.readlines()\n",
    "\n",
    "data = []\n",
    "\n",
    "# bỏ dòng header\n",
    "for i in range(1, len(lines)): \n",
    "    string = lines[i].split(',')\n",
    "    \n",
    "    sepal_length = float(string[1].strip())\n",
    "    sepal_width  = float(string[2].strip())\n",
    "    pedal_length = float(string[3].strip())\n",
    "    pedal_width  = float(string[4].strip())\n",
    "    \n",
    "    species = 0\n",
    "    if string[5].strip() == 'Iris-versicolor':\n",
    "        species = 1\n",
    "    elif string[5].strip() == 'Iris-virginica':\n",
    "        species = 2\n",
    "    \n",
    "    data.append([sepal_length, sepal_width, pedal_length, pedal_width, species])\n",
    "    \n",
    "# Đóng kết nối với file\n",
    "file.close()\n",
    "\n",
    "print(data[0])\n",
    "print(data[50])\n",
    "print(data[100])"
   ]
  },
  {
   "cell_type": "code",
   "execution_count": 30,
   "metadata": {},
   "outputs": [],
   "source": [
    "# kết nối với file\n",
    "file = open('Iris.csv','r')\n",
    "\n",
    "# readlines giúp việc đọc file theo từng dòng , mỗi dòng là 1 chuỗi\n",
    "lines = file.readlines() \n",
    "\n",
    "data = []\n",
    "for i in range(1, len(lines)):#để bỏ qua phần header nên ta bắt đầu từ 1 \n",
    "    string = lines[i].split(',')\n",
    "    data.append([float(string[0]), float(string[1]), float(string[2])])\n",
    "    \n",
    "# Đóng kết nối với file\n",
    "file.close()"
   ]
  },
  {
   "cell_type": "code",
   "execution_count": null,
   "metadata": {},
   "outputs": [],
   "source": []
  },
  {
   "cell_type": "code",
   "execution_count": 6,
   "metadata": {},
   "outputs": [
    {
     "data": {
      "text/plain": [
       "16"
      ]
     },
     "execution_count": 6,
     "metadata": {},
     "output_type": "execute_result"
    }
   ],
   "source": [
    "# open a file\n",
    "a_file = open('hello_world.txt', 'w') \n",
    "\n",
    "# write data to file\n",
    "text3 = 'writing line \\n'\n",
    "a_file.write(text3)"
   ]
  },
  {
   "cell_type": "code",
   "execution_count": 5,
   "metadata": {},
   "outputs": [],
   "source": [
    "# open a file\n",
    "a_file = open('hello_world.txt', 'w') \n",
    "\n",
    "# write data to file\n",
    "text3 = 'writing line \\n'\n",
    "a_file.write(text3)\n",
    "\n",
    "# close the file\n",
    "a_file.close()"
   ]
  },
  {
   "cell_type": "code",
   "execution_count": 8,
   "metadata": {},
   "outputs": [],
   "source": [
    "# using with\n",
    "\n",
    "with open('hello_world.txt', 'w') as file:\n",
    "    file.write('writing line \\n')"
   ]
  },
  {
   "cell_type": "code",
   "execution_count": null,
   "metadata": {},
   "outputs": [],
   "source": []
  }
 ],
 "metadata": {
  "kernelspec": {
   "display_name": "Python 3 (ipykernel)",
   "language": "python",
   "name": "python3"
  },
  "language_info": {
   "codemirror_mode": {
    "name": "ipython",
    "version": 3
   },
   "file_extension": ".py",
   "mimetype": "text/x-python",
   "name": "python",
   "nbconvert_exporter": "python",
   "pygments_lexer": "ipython3",
   "version": "3.9.13"
  }
 },
 "nbformat": 4,
 "nbformat_minor": 2
}
