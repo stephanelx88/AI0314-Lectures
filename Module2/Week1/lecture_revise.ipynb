{
 "cells": [
  {
   "cell_type": "code",
   "execution_count": 1,
   "metadata": {},
   "outputs": [
    {
     "name": "stdout",
     "output_type": "stream",
     "text": [
      "hello world\n"
     ]
    }
   ],
   "source": [
    "print('hello world')"
   ]
  },
  {
   "cell_type": "code",
   "execution_count": 2,
   "metadata": {},
   "outputs": [
    {
     "name": "stdout",
     "output_type": "stream",
     "text": [
      "array [0 1 2 3 4 5 6 7 8 9]\n",
      "5\n",
      "[0 1 2 3 4 6 7 8 9]\n"
     ]
    }
   ],
   "source": [
    "import numpy as np\n",
    "\n",
    "a_data = np.arange(10)\n",
    "print('array', a_data)\n",
    "\n",
    "deleted_index = np.where(a_data == 5)[0][0]\n",
    "\n",
    "a_data = np.delete(a_data, deleted_index)\n",
    "print(deleted_index)\n",
    "print(a_data)"
   ]
  },
  {
   "cell_type": "code",
   "execution_count": 3,
   "metadata": {},
   "outputs": [
    {
     "name": "stdout",
     "output_type": "stream",
     "text": [
      "3\n"
     ]
    }
   ],
   "source": [
    "# Count number of instance in an array\n",
    "arr = np.array([6, 5, 7, 1, 9, 7, 7, 2])\n",
    "\n",
    "seven_count = (arr == 7).sum()\n",
    "print(seven_count)"
   ]
  },
  {
   "cell_type": "code",
   "execution_count": 4,
   "metadata": {},
   "outputs": [
    {
     "name": "stdout",
     "output_type": "stream",
     "text": [
      "Multiplication 2 lists of size 10,000,000: 1.4519853591918945 ms.\n",
      "Multiplication 2 arrays of size 10,000,000: 0.04001617431640625 ms.\n",
      "Numpy array operation is faster 36.28 times\n"
     ]
    }
   ],
   "source": [
    "# How much faster is numpy array comparing to python list?\n",
    "import numpy as np\n",
    "import time\n",
    "\n",
    "\n",
    "def multiply_lists(size=100_000):\n",
    "    # Generate 2 lists\n",
    "    list1 = list(range(size))\n",
    "    list2 = list1.copy()\n",
    "\n",
    "    return [(a * b) for a, b in zip(list1, list2)]\n",
    "\n",
    "def multiply_arrays(size=100_000):\n",
    "    arr1 = np.arange(size)\n",
    "    arr2 = arr1.copy()\n",
    "\n",
    "    return arr1 * arr2\n",
    "\n",
    "def compare_performance(size=100_000):\n",
    "    time_elapsed_list = 0\n",
    "    time_elapsed_array = 0\n",
    "\n",
    "    # Capture start time for list operations\n",
    "    start_time = time.time()\n",
    "\n",
    "    # Run multiplication for lists\n",
    "    multiply_lists(size)\n",
    "\n",
    "    # Calculate elapsed time\n",
    "    time_elapsed_list = time.time() - start_time\n",
    "\n",
    "    # Capture stat time for array operations\n",
    "    start_time = time.time()\n",
    "\n",
    "    # Run multiplication for arrays\n",
    "    multiply_arrays(size)\n",
    "    \n",
    "    # Calculate elapsed time\n",
    "    time_elapsed_array = time.time() - start_time\n",
    "\n",
    "    # How much faster\n",
    "    faster_rate = time_elapsed_list / time_elapsed_array\n",
    "\n",
    "    # Print out results\n",
    "    print(f'Multiplication 2 lists of size {size:,}: {time_elapsed_list} ms.')\n",
    "    print(f'Multiplication 2 arrays of size {size:,}: {time_elapsed_array} ms.')\n",
    "    print(f\"Numpy array operation is faster {faster_rate:.2f} times\")\n",
    "\n",
    "\n",
    "compare_performance(10000000)"
   ]
  },
  {
   "cell_type": "code",
   "execution_count": 5,
   "metadata": {},
   "outputs": [
    {
     "name": "stdout",
     "output_type": "stream",
     "text": [
      "0.14611538677602381\n"
     ]
    }
   ],
   "source": [
    "# Implement a function to compute Intersection over union - iou\n",
    "\n",
    "def compute_iou(box_a, box_b):\n",
    "    # Calculate areas of 2 boxes\n",
    "    area_box_a = (box_a[2] - box_a[0] + 1) * (box_a[3] - box_a[1] + 1)\n",
    "    area_box_b = (box_b[2] - box_b[0] + 1) * (box_b[3] - box_b[1] + 1)\n",
    "\n",
    "    # Locate coordinates of the intersection\n",
    "    x_a = max(box_a[0], box_b[0])\n",
    "    y_a = max(box_a[1], box_b[1])\n",
    "    x_b = min(box_a[2], box_b[2])\n",
    "    y_b = min(box_a[3], box_b[3])\n",
    "\n",
    "    # Compute intersection area\n",
    "    area_intersection = max(0, (x_b - x_a + 1)) * max(0, (y_b - y_a + 1))\n",
    "\n",
    "    # Comput iou\n",
    "    area_union = area_box_a + area_box_b - area_intersection\n",
    "    iou = area_intersection / area_union\n",
    "\n",
    "    return iou\n",
    "\n",
    "# Tests\n",
    "box_a = [0, 0, 100, 100]\n",
    "box_b = [50, 50, 150, 150]\n",
    "\n",
    "print(compute_iou(box_a, box_b))"
   ]
  },
  {
   "cell_type": "code",
   "execution_count": 10,
   "metadata": {},
   "outputs": [
    {
     "name": "stdout",
     "output_type": "stream",
     "text": [
      "Elapsed time: 0.025608539581298828  miliseconds\n"
     ]
    }
   ],
   "source": [
    "# Compute iou for N-bounding boxes - using list\n",
    "\n",
    "def time_taken_lists(size=10_000):\n",
    "    boxes = []\n",
    "\n",
    "    for i in range(size):\n",
    "        box = [i+1] * 4\n",
    "        boxes.append(box)\n",
    "    \n",
    "    # Compute iou for size - 1 bounding boxes\n",
    "    ground_truth_box = boxes[0]\n",
    "\n",
    "    # Capture start time\n",
    "    start_time = time.time()\n",
    "\n",
    "    for i in range(1, len(boxes)):\n",
    "        iou = compute_iou(ground_truth_box, boxes[i])\n",
    "\n",
    "    # Time taken\n",
    "    elapsed_time = time.time() - start_time\n",
    "\n",
    "    print('Elapsed time:', elapsed_time, \" miliseconds\")\n",
    "\n",
    "time_taken_lists()\n",
    "\n"
   ]
  },
  {
   "cell_type": "code",
   "execution_count": 12,
   "metadata": {},
   "outputs": [
    {
     "name": "stdout",
     "output_type": "stream",
     "text": [
      "Processing arrays...\n",
      "Time taken: 0.012019157409667969 milliseconds\n",
      "Processing lists...\n",
      "Elapsed time: 0.019542932510375977  miliseconds\n"
     ]
    }
   ],
   "source": [
    "import time\n",
    "import numpy as np\n",
    "\n",
    "\n",
    "def time_taken_array(size=10_000):\n",
    "    # Capture start time\n",
    "    start_time = time.time()\n",
    "\n",
    "    # Generate boxes\n",
    "    boxes = [[i]*4 for i in range(size)]\n",
    "    box_array = np.array(boxes)\n",
    "    \n",
    "    # Coordinates of bounding boxes (999)\n",
    "    x1 = box_array[:, 0]\n",
    "    y1 = box_array[:, 1]\n",
    "    x2 = box_array[:, 2]\n",
    "    y2 = box_array[:, 3]\n",
    "\n",
    "    # Compute areas of bounding boxes\n",
    "    areas = (x2 - x1 + 1) * (y2 - y1 + 1)\n",
    "\n",
    "    # Compute intersection areas\n",
    "    xx1 = np.maximum(x1[0], x1[1:])\n",
    "    yy1 = np.maximum(y1[0], y1[1:])\n",
    "    xx2 = np.minimum(x2[0], x2[1:])\n",
    "    yy2 = np.minimum(y2[0], y2[1:])\n",
    "\n",
    "    w = np.maximum(0, xx2 - xx1 + 1)\n",
    "    h = np.maximum(0, yy2 - yy1 + 1)\n",
    "\n",
    "    inter_area = w * h\n",
    "\n",
    "    # Compute iou\n",
    "    ious = inter_area / (areas[0] + areas[1:] - inter_area)\n",
    "\n",
    "    # Compute time taken\n",
    "    time_taken = time.time() - start_time\n",
    "    print(f\"Time taken: {time_taken} milliseconds\")\n",
    "\n",
    "\n",
    "\n",
    "\n",
    "print('Processing arrays...')\n",
    "time_taken_array()\n",
    "print('Processing lists...')\n",
    "time_taken_lists()"
   ]
  },
  {
   "cell_type": "code",
   "execution_count": 24,
   "metadata": {},
   "outputs": [
    {
     "name": "stdout",
     "output_type": "stream",
     "text": [
      "[4]\n"
     ]
    }
   ],
   "source": [
    "# Choose which bounding boxes to eliminate\n",
    "\n",
    "def non_max_suppression(boxes, scores, iou_threshold):\n",
    "\n",
    "    # Sort the boxes by score in ascending order\n",
    "    sorted_indices = sorted(range(len(boxes)), key=lambda x: scores[x], reverse=True)\n",
    "\n",
    "    # List ot stroe the indes of boxes to keep\n",
    "    keep = []\n",
    "\n",
    "    while sorted_indices:\n",
    "        i = sorted_indices.pop(0) # index of the current highest score box\n",
    "        keep.append(i)\n",
    "\n",
    "        filtered_indices = []\n",
    "        for j in sorted_indices:\n",
    "            iou = compute_iou(boxes[i], boxes[j])\n",
    "            if iou <= iou_threshold:\n",
    "                filtered_indices.append(j)\n",
    "        sorted_indices = filtered_indices\n",
    "\n",
    "    return keep\n",
    "\n",
    "\n",
    "# Tests\n",
    "\n",
    "boxes = [\n",
    "    [12, 84, 140, 212],\n",
    "    [24, 84, 152, 212],\n",
    "    [36, 84, 164, 212],\n",
    "    [12, 96, 140, 224],\n",
    "    [24, 96, 152, 224]\n",
    "]\n",
    "\n",
    "scores = [0.3, 0.4, 0.5, 0.6, 0.7]\n",
    "iou_threshold = 0.3\n",
    "print(non_max_suppression(boxes, scores, iou_threshold))\n"
   ]
  },
  {
   "cell_type": "code",
   "execution_count": 35,
   "metadata": {},
   "outputs": [
    {
     "data": {
      "text/plain": [
       "[4]"
      ]
     },
     "execution_count": 35,
     "metadata": {},
     "output_type": "execute_result"
    }
   ],
   "source": [
    "# Implement non_max_suppression using numpy arrays\n",
    "\n",
    "def non_max_suppression_arr(boxes, scores, iou_threshold):\n",
    "\n",
    "    if len(boxes) == 0:\n",
    "        return []\n",
    "    \n",
    "    # Coordinates of bounding boxes\n",
    "    x1 = boxes[:, 0]\n",
    "    y1 = boxes[:, 1]\n",
    "    x2 = boxes[:, 2]\n",
    "    y2 = boxes[:, 3]\n",
    "\n",
    "    # Compute area of bounding boxes\n",
    "    areas = (x2 - x1 + 1) * (y2 - y1 + 1)\n",
    "\n",
    "    # Sort by scores\n",
    "    order = scores.argsort()[::-1]\n",
    "\n",
    "    keep = []\n",
    "    while order.size > 0:\n",
    "        i = order[0]\n",
    "        keep.append(i)\n",
    "\n",
    "        # Compute iou\n",
    "        xx1 = np.maximum(x1[i], x1[order[1:]])\n",
    "        yy1 = np.maximum(y1[i], y1[order[1:]])\n",
    "        xx2 = np.minimum(x2[i], x2[order[1:]])\n",
    "        yy2 = np.minimum(y2[i], y2[order[1:]])\n",
    "\n",
    "        w = np.maximum(0, xx2 - xx1 + 1)\n",
    "        h = np.maximum(0, yy2 - yy1 + 1)\n",
    "\n",
    "        intersection = w * h\n",
    "        iou = intersection / (areas[i] + areas[order[1:]] - intersection)\n",
    "\n",
    "        # Suppress bounding boexes with iou over the threshold\n",
    "        inds = np.where(iou <= iou_threshold)[0]\n",
    "        order = order[inds + 1]\n",
    "    return keep\n",
    "boxes_array = np.array(boxes)\n",
    "scores_array = np.array(scores)\n",
    "non_max_suppression_arr(boxes_array, scores_array, iou_threshold)\n"
   ]
  },
  {
   "cell_type": "code",
   "execution_count": null,
   "metadata": {},
   "outputs": [],
   "source": []
  }
 ],
 "metadata": {
  "kernelspec": {
   "display_name": "Python 3",
   "language": "python",
   "name": "python3"
  },
  "language_info": {
   "codemirror_mode": {
    "name": "ipython",
    "version": 3
   },
   "file_extension": ".py",
   "mimetype": "text/x-python",
   "name": "python",
   "nbconvert_exporter": "python",
   "pygments_lexer": "ipython3",
   "version": "3.10.9"
  }
 },
 "nbformat": 4,
 "nbformat_minor": 2
}
