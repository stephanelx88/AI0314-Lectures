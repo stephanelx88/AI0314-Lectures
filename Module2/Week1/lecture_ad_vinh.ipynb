{
 "cells": [
  {
   "cell_type": "code",
   "execution_count": 6,
   "metadata": {},
   "outputs": [
    {
     "name": "stdout",
     "output_type": "stream",
     "text": [
      "<numpy.vectorize object at 0x00000237745CD600>\n",
      "<class 'numpy.vectorize'>\n",
      "[ 1  4  9 16]\n",
      "<class 'numpy.ndarray'>\n"
     ]
    }
   ],
   "source": [
    "import numpy as np\n",
    "\n",
    "\n",
    "def square(x):\n",
    "    return x**2\n",
    "\n",
    "\n",
    "square_np = np.vectorize(square)\n",
    "\n",
    "print(square_np)\n",
    "print(type(square_np))\n",
    "\n",
    "# Test\n",
    "numbers = [1, 2, 3, 4]\n",
    "\n",
    "vector = square_np(numbers)\n",
    "print(vector)\n",
    "print(type(vector))"
   ]
  },
  {
   "cell_type": "code",
   "execution_count": 7,
   "metadata": {},
   "outputs": [
    {
     "name": "stdout",
     "output_type": "stream",
     "text": [
      "[ 9 16 25]\n"
     ]
    }
   ],
   "source": [
    "numbers = np.array([3, 4, 5])\n",
    "\n",
    "square_numbers = numbers ** 2\n",
    "\n",
    "print(square_numbers)"
   ]
  },
  {
   "cell_type": "code",
   "execution_count": 14,
   "metadata": {},
   "outputs": [
    {
     "name": "stdout",
     "output_type": "stream",
     "text": [
      "[[0. 0. 0.]\n",
      " [0. 0. 0.]]\n",
      "[[1. 1. 1.]\n",
      " [1. 1. 1.]]\n",
      "[[9 9 9]\n",
      " [9 9 9]]\n"
     ]
    }
   ],
   "source": [
    "import numpy as np\n",
    "\n",
    "zero_arr = np.zeros((2, 3))\n",
    "print(zero_arr)\n",
    "\n",
    "one_arr = np.ones((2, 3))\n",
    "print(one_arr)\n",
    "\n",
    "nine_arr = np.full((2, 3), 9)\n",
    "print(nine_arr)"
   ]
  },
  {
   "cell_type": "code",
   "execution_count": 18,
   "metadata": {},
   "outputs": [
    {
     "name": "stdout",
     "output_type": "stream",
     "text": [
      "[[1. 0. 0.]\n",
      " [0. 1. 0.]\n",
      " [0. 0. 1.]]\n",
      "[[0.45386975 0.05771539 0.58837442]\n",
      " [0.59621942 0.03804224 0.84852179]]\n"
     ]
    }
   ],
   "source": [
    "eye_arr =  np.eye(3)\n",
    "print(eye_arr)\n",
    "\n",
    "\n",
    "random_arr = np.random.random((2, 3))\n",
    "print(random_arr)"
   ]
  },
  {
   "cell_type": "code",
   "execution_count": 21,
   "metadata": {},
   "outputs": [
    {
     "name": "stdout",
     "output_type": "stream",
     "text": [
      "[0 1 2 3 4]\n",
      "[0 2 4]\n"
     ]
    }
   ],
   "source": [
    "a_range = np.arange(5)\n",
    "print(a_range)\n",
    "\n",
    "b_range = np.arange(0, 5, 2)\n",
    "print(b_range)"
   ]
  },
  {
   "cell_type": "code",
   "execution_count": 24,
   "metadata": {},
   "outputs": [
    {
     "name": "stdout",
     "output_type": "stream",
     "text": [
      "[[1 2 3]\n",
      " [4 5 6]]\n",
      "data shape (2, 3)\n",
      "[[1 2]\n",
      " [3 4]\n",
      " [5 6]]\n",
      "data reshape (3, 2)\n"
     ]
    }
   ],
   "source": [
    "data = np.arange(1, 7).reshape(2, 3)\n",
    "print(data)\n",
    "print('data shape', data.shape)\n",
    "\n",
    "data_rs = data.reshape(3, 2)\n",
    "print(data_rs)\n",
    "print('data reshape', data_rs.shape)"
   ]
  },
  {
   "cell_type": "code",
   "execution_count": 28,
   "metadata": {},
   "outputs": [
    {
     "name": "stdout",
     "output_type": "stream",
     "text": [
      "[1 2 3 4 5 6]\n",
      "[1 2 3 4 5 6]\n"
     ]
    }
   ],
   "source": [
    "flattened_data = data_rs.flatten()\n",
    "print(flattened_data)\n",
    "\n",
    "# Another way to flatten\n",
    "flattened_2 = data_rs.reshape(-1)\n",
    "print(flattened_2)"
   ]
  },
  {
   "cell_type": "code",
   "execution_count": 32,
   "metadata": {},
   "outputs": [
    {
     "name": "stdout",
     "output_type": "stream",
     "text": [
      "[[7 4]\n",
      " [5 7]]\n",
      "[[7 4]\n",
      " [7 4]\n",
      " [5 7]\n",
      " [5 7]]\n",
      "[[7 7 4 4]\n",
      " [5 5 7 7]]\n"
     ]
    }
   ],
   "source": [
    "import numpy as np\n",
    "\n",
    "np.random.seed(42)\n",
    "# Generate random integers\n",
    "data = np.random.randint(1, 9, (2, 2))\n",
    "print(data)\n",
    "\n",
    "# Repeat data\n",
    "data_repeat = data.repeat(2, axis=0)\n",
    "print(data_repeat)\n",
    "\n",
    "# Repeat by column\n",
    "data_repeat_col = data.repeat(2, axis=1)\n",
    "print(data_repeat_col)"
   ]
  },
  {
   "cell_type": "code",
   "execution_count": 34,
   "metadata": {},
   "outputs": [
    {
     "name": "stdout",
     "output_type": "stream",
     "text": [
      "[1 2 3]\n",
      "[2 4 6]\n"
     ]
    }
   ],
   "source": [
    "# Broadcasting\n",
    "data = np.arange(1, 4)\n",
    "\n",
    "double_data = data * 2\n",
    "print(data)\n",
    "print(double_data)"
   ]
  },
  {
   "cell_type": "code",
   "execution_count": 48,
   "metadata": {},
   "outputs": [
    {
     "data": {
      "text/plain": [
       "'Original'"
      ]
     },
     "metadata": {},
     "output_type": "display_data"
    },
    {
     "data": {
      "text/plain": [
       "array([[1, 2],\n",
       "       [3, 4],\n",
       "       [5, 6]])"
      ]
     },
     "metadata": {},
     "output_type": "display_data"
    },
    {
     "name": "stdout",
     "output_type": "stream",
     "text": [
      "2 <class 'numpy.int32'> ()\n",
      "[[2]] <class 'numpy.ndarray'> (1, 1)\n",
      "[2] <class 'numpy.ndarray'> (1,)\n"
     ]
    }
   ],
   "source": [
    "original = np.arange(1, 7).reshape(3, -1)\n",
    "display('Original', original)\n",
    "\n",
    "two = original[0, 1]\n",
    "print(two, type(two), two.shape)\n",
    "\n",
    "two_no_change_shape = original[0:1, 1:2]\n",
    "print(two_no_change_shape, type(two_no_change_shape), two_no_change_shape.shape)\n",
    "\n",
    "two_3 = original[0, 1:2]\n",
    "print(two_3, type(two_3), two_3.shape)"
   ]
  },
  {
   "cell_type": "code",
   "execution_count": 50,
   "metadata": {},
   "outputs": [
    {
     "data": {
      "text/plain": [
       "array([[3, 4],\n",
       "       [5, 6]])"
      ]
     },
     "execution_count": 50,
     "metadata": {},
     "output_type": "execute_result"
    }
   ],
   "source": [
    "original[1:3]"
   ]
  },
  {
   "cell_type": "code",
   "execution_count": 51,
   "metadata": {},
   "outputs": [
    {
     "data": {
      "text/plain": [
       "array([1])"
      ]
     },
     "execution_count": 51,
     "metadata": {},
     "output_type": "execute_result"
    }
   ],
   "source": [
    "original[0:1, 0]"
   ]
  },
  {
   "cell_type": "code",
   "execution_count": 56,
   "metadata": {},
   "outputs": [
    {
     "name": "stdout",
     "output_type": "stream",
     "text": [
      "[[1 2 3]\n",
      " [4 5 6]\n",
      " [7 8 9]]\n",
      "[2 5 8] 1\n",
      "[[2]\n",
      " [5]\n",
      " [8]] 2\n"
     ]
    }
   ],
   "source": [
    "import numpy as np\n",
    "\n",
    "arr = np.arange(1, 10).reshape(3, 3)\n",
    "print(arr)\n",
    "\n",
    "col_1_ndim_decrease = arr[:, 1]\n",
    "print(col_1_ndim_decrease, col_1_ndim_decrease.ndim)\n",
    "\n",
    "col_1_ndim_unchanged = arr[:, 1:2]\n",
    "print(col_1_ndim_unchanged, col_1_ndim_unchanged.ndim)"
   ]
  },
  {
   "cell_type": "code",
   "execution_count": 57,
   "metadata": {},
   "outputs": [
    {
     "name": "stdout",
     "output_type": "stream",
     "text": [
      "[1 5 7]\n"
     ]
    }
   ],
   "source": [
    "# Get many values in one go\n",
    "out1 = arr[[0, 1, 2], [0, 1, 0]]\n",
    "print(out1)"
   ]
  },
  {
   "cell_type": "code",
   "execution_count": 61,
   "metadata": {},
   "outputs": [
    {
     "name": "stdout",
     "output_type": "stream",
     "text": [
      "[[False False False]\n",
      " [False  True  True]\n",
      " [ True False False]]\n",
      "[5 6 7]\n"
     ]
    }
   ],
   "source": [
    "condition = (arr <= 7) & (arr >=5)\n",
    "\n",
    "print(condition)\n",
    "print(arr[condition])"
   ]
  },
  {
   "cell_type": "code",
   "execution_count": null,
   "metadata": {},
   "outputs": [],
   "source": []
  }
 ],
 "metadata": {
  "kernelspec": {
   "display_name": "base",
   "language": "python",
   "name": "python3"
  },
  "language_info": {
   "codemirror_mode": {
    "name": "ipython",
    "version": 3
   },
   "file_extension": ".py",
   "mimetype": "text/x-python",
   "name": "python",
   "nbconvert_exporter": "python",
   "pygments_lexer": "ipython3",
   "version": "3.10.9"
  }
 },
 "nbformat": 4,
 "nbformat_minor": 2
}
