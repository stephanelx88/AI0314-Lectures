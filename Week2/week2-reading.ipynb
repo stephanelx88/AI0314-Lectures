{
 "cells": [
  {
   "cell_type": "code",
   "execution_count": 1,
   "metadata": {},
   "outputs": [
    {
     "name": "stdout",
     "output_type": "stream",
     "text": [
      "[1, 2, 3, 4, 5, 6, 7, 8, 9, 10]\n"
     ]
    }
   ],
   "source": [
    "# SSection 1:\n",
    "# Question 1: Create a list of intergers from 1 to 10\n",
    "\n",
    "first_ten = [num for num in range(1, 11)]\n",
    "\n",
    "print(first_ten)"
   ]
  },
  {
   "cell_type": "code",
   "execution_count": 4,
   "metadata": {},
   "outputs": [
    {
     "name": "stdout",
     "output_type": "stream",
     "text": [
      "[1, 2, 3, 4, 5]\n",
      "1\n",
      "2\n",
      "3\n",
      "4\n",
      "5\n"
     ]
    }
   ],
   "source": [
    "# Question 2: Print first five intergers\n",
    "\n",
    "first_five = first_ten[:5]\n",
    "print(first_five)\n",
    "\n",
    "# Another way\n",
    "for i in range(5):\n",
    "    print(first_ten[i])"
   ]
  },
  {
   "cell_type": "code",
   "execution_count": 3,
   "metadata": {},
   "outputs": [
    {
     "name": "stdout",
     "output_type": "stream",
     "text": [
      "1\n",
      "3\n",
      "5\n",
      "7\n",
      "9\n"
     ]
    }
   ],
   "source": [
    "# Question 3: Print numbers not divisible by 2 (use for loop)\n",
    "\n",
    "for num in first_ten:\n",
    "    if num % 2 != 0:\n",
    "        print(num)"
   ]
  },
  {
   "cell_type": "code",
   "execution_count": 10,
   "metadata": {},
   "outputs": [
    {
     "name": "stdout",
     "output_type": "stream",
     "text": [
      "Unit test passed\n",
      "55\n"
     ]
    }
   ],
   "source": [
    "# Question 4: Print total of numbers of the list\n",
    "\n",
    "def compute_total(lst_data: list) -> float:\n",
    "    '''Computes the total of numbers in lst_data\n",
    "\n",
    "    Args:\n",
    "        lst_data: a list of numbers to compute the total\n",
    "    \n",
    "    Returns:\n",
    "        total: the total of the numbers in lst_data  \n",
    "    '''\n",
    "\n",
    "    total = 0\n",
    "    for num in lst_data:\n",
    "        total += num\n",
    "\n",
    "    return total\n",
    "\n",
    "lst_data = [1, 2, 3, 4, 5, 6, 7, 8, 9]\n",
    "\n",
    "assert compute_total(lst_data) == 45\n",
    "assert compute_total([-1, 9, 3]) == 11 \n",
    "print('Unit test passed')\n",
    "print(compute_total(first_ten))"
   ]
  },
  {
   "cell_type": "code",
   "execution_count": 19,
   "metadata": {},
   "outputs": [
    {
     "name": "stdout",
     "output_type": "stream",
     "text": [
      "['stephane trinh', 3, 'long xuyen city', 'panel']\n"
     ]
    }
   ],
   "source": [
    "# Section 2: Theories\n",
    "\n",
    "my_lst = [1, 'a', 3]\n",
    "another_lst = list((3, 3, 'control', 'panel'))\n",
    "\n",
    "another_lst.append('welcome')\n",
    "another_lst.insert(1, 'stephane trinh')\n",
    "another_lst.remove(3)\n",
    "another_lst.pop(-1)\n",
    "another_lst[2] = 'long xuyen city'\n",
    "print(another_lst)"
   ]
  },
  {
   "cell_type": "code",
   "execution_count": 33,
   "metadata": {},
   "outputs": [
    {
     "name": "stdout",
     "output_type": "stream",
     "text": [
      "Question 1: [2, 4, 6, 8, 10, 12]\n",
      "Question 2: [2, 4, 8, 10]\n",
      "Question 3|: [2, 4, 8, 6, 7, 8, 10, 1, 2, 3]\n",
      "Question 4: [0, 0, 0, 0, 7, 0, 0, 1, 0, 3]\n"
     ]
    }
   ],
   "source": [
    "# Exercises\n",
    "\n",
    "# Create a list of even numbers from 1 to 12\n",
    "lst_data = [number for number in range(1, 13) if number % 2 == 0]\n",
    "print('Question 1:', lst_data)\n",
    "# Remove numbers divisible by three from lst_data\n",
    "\n",
    "# For loop\n",
    "for num in lst_data:\n",
    "    if num % 3 == 0:\n",
    "        lst_data.remove(num)\n",
    "\n",
    "# List comprehension\n",
    "lst_data = [num for num in lst_data if num % 3 != 0]\n",
    "print('Question 2:', lst_data)\n",
    "\n",
    "\n",
    "# Append 1, 2, 3 to lst_data\n",
    "lst_data = lst_data + [1, 2, 3]\n",
    "\n",
    "lst_data = lst_data[:3] + [6, 7, 8] + lst_data[3:]\n",
    "print('Question 3|:', lst_data)\n",
    "\n",
    "\n",
    "# If number in lst_data is divisible by 2 or 5, update it to 0\n",
    "lst_data = [0 if num % 2 == 0 or num % 5 == 0 else num for num in lst_data]\n",
    "print('Question 4:', lst_data)\n"
   ]
  },
  {
   "cell_type": "code",
   "execution_count": 35,
   "metadata": {},
   "outputs": [
    {
     "name": "stdout",
     "output_type": "stream",
     "text": [
      "64\n"
     ]
    }
   ],
   "source": [
    "# Section 3:\n",
    "print(8**2)"
   ]
  },
  {
   "cell_type": "code",
   "execution_count": 48,
   "metadata": {},
   "outputs": [
    {
     "name": "stdout",
     "output_type": "stream",
     "text": [
      "[153, 407, 371, 1634, 370]\n"
     ]
    }
   ],
   "source": [
    "# Check if a number is an Armstrong number\n",
    "\n",
    "def is_armstrong(num: int) -> int:\n",
    "    '''Returns 1 if num is an Armstrong number, 0 otherwise\n",
    "\n",
    "    Args:\n",
    "        num: The number to be checked\n",
    "\n",
    "    Returns:\n",
    "        result: 1 if num is an Armstrong number, Fal0se otherwise\n",
    "    '''\n",
    "\n",
    "    # Initialize result\n",
    "    result = 0\n",
    "    \n",
    "    # Convert number to string and split into digits\n",
    "    num_str = str(num)\n",
    "    digits = [int(d) for d in num_str]\n",
    "    \n",
    "    # Legth of the digits\n",
    "    n = len(digits)\n",
    "\n",
    "    # Calulate sum of the digits with the power of n\n",
    "    total = sum([digit**n for digit in digits])\n",
    "    \n",
    "    if total == num:\n",
    "        result = 1\n",
    "\n",
    "    return result\n",
    "\n",
    "def extract_armstrong(lst_data: list) -> list:\n",
    "    '''Returns a list of Armstrong numbers from the list input\n",
    "    \n",
    "    Arg:\n",
    "        lst_data: input list of numbers\n",
    "\n",
    "    Returns:\n",
    "        arm_nums: list of Armstrong numbers\n",
    "    '''\n",
    "    arm_nums = [num for num in lst_data if is_armstrong(num)]\n",
    "\n",
    "    return arm_nums\n",
    "\n",
    "\n",
    "lst_data = [130 , 270 , 153 , 407 , 177 , 371 , 1000 , 1634 , 370]\n",
    "print(extract_armstrong(lst_data))\n",
    "\n"
   ]
  },
  {
   "cell_type": "code",
   "execution_count": 66,
   "metadata": {},
   "outputs": [
    {
     "name": "stdout",
     "output_type": "stream",
     "text": [
      "[True, True, True, False, True]\n",
      "[True, False, False, False, False]\n",
      "[True, False, True]\n"
     ]
    }
   ],
   "source": [
    "def has_most_candies(candy_lst, extra_candies=3) -> list[bool]:\n",
    "    '''Checks if the number of candies of each person has plus\n",
    "    extra candies exceeds the max number of candies all people have.\n",
    "    \n",
    "    Args:\n",
    "        candy_lst: list of candies each person has\n",
    "        extra_candy: number of extra candies\n",
    "\n",
    "    Returns:\n",
    "        result: list of boolean values\n",
    "    '''\n",
    "\n",
    "    max_candies = max(candy_lst)\n",
    "    \n",
    "    result = [True if n_candies + extra_candies >= max_candies else False\\\n",
    "               for n_candies in candy_lst]\n",
    "    \n",
    "    return result\n",
    "\n",
    "\n",
    "\n",
    "print(has_most_candies([2, 3, 5, 1, 3], extra_candies=3))\n",
    "print(has_most_candies([4, 2, 1, 1, 2], extra_candies=1))\n",
    "print(has_most_candies([12 , 1, 12], extra_candies=10))\n",
    "\n",
    "\n"
   ]
  },
  {
   "cell_type": "code",
   "execution_count": 75,
   "metadata": {},
   "outputs": [
    {
     "name": "stdout",
     "output_type": "stream",
     "text": [
      "[1, 2, 3, 4, 5, 6, 7, 8, 9, 10]\n",
      "Median 5.5\n",
      "[9, 7, 5, 3, 1]\n"
     ]
    }
   ],
   "source": [
    "# Section 5: Computing median for a list of numbers\n",
    "\n",
    "def median(lst_data: list) -> float:\n",
    "    '''Returns the median of the numbers in lst_data\n",
    "    \n",
    "    Args:\n",
    "        lst_data: a list of numbers to calculate the median of\n",
    "\n",
    "    Returns:\n",
    "        med: the median of the numbers in lst_data\n",
    "    '''\n",
    "\n",
    "    med = None\n",
    "\n",
    "    # Length of the data\n",
    "    length = len(lst_data)\n",
    "    \n",
    "    if length % 2 == 0:\n",
    "        index = int(length / 2) - 1\n",
    "        first_center = lst_data[index]\n",
    "        second_center = lst_data[index + 1]\n",
    "        med = (first_center + second_center) / 2\n",
    "    else:\n",
    "        index = int(length / 2)\n",
    "\n",
    "        med = lst_data[index]\n",
    "\n",
    "    return med\n",
    "\n",
    "lst_data = [num for num in range(1, 11)]\n",
    "print(lst_data)\n",
    "\n",
    "median_value = median(lst_data)\n",
    "print('Median', median_value)\n",
    "\n",
    "lst_odd_filter = sorted([num for num in lst_data if num %2 != 0], reverse=True)\n",
    "print(lst_odd_filter)\n"
   ]
  },
  {
   "cell_type": "code",
   "execution_count": 91,
   "metadata": {},
   "outputs": [
    {
     "name": "stdout",
     "output_type": "stream",
     "text": [
      "Odds: [1, 3, 5, 7, 9]\n",
      "\tMean for odd numbers: 5.0\n",
      "Evens: [2, 4, 6, 8, 10]\n",
      "\tMean for even numbers: 6.0\n",
      "\n",
      "Whole lst_data: [1, 2, 3, 4, 5, 6, 7, 8, 9, 10]\n",
      "\tMean: 5.5\n",
      "\tMedian: 5.5\n"
     ]
    }
   ],
   "source": [
    "# Section 6: Comnputing mean for a list of numbers\n",
    "\n",
    "def mean(lst_data: list) -> float:\n",
    "    '''Computes the mean of a list of numbers in lst_data\n",
    "    \n",
    "    Args:\n",
    "        lst_data: A list of numbers\n",
    "\n",
    "    Returns:\n",
    "        mean_value: The mean value of the list of numbers\n",
    "    '''\n",
    "\n",
    "    total = 0\n",
    "\n",
    "    for num in lst_data:\n",
    "        total += num\n",
    "\n",
    "    mean_value = total / len(lst_data)\n",
    "\n",
    "    return mean_value\n",
    "\n",
    "\n",
    "lst_data = [i for i in range(1, 11)]\n",
    "# print(lst_data)\n",
    "\n",
    "odds = [i for i in lst_data if i % 2 != 0]\n",
    "evens = [i for i in lst_data if i % 2 == 0]\n",
    "\n",
    "print(f\"Odds: {odds}\")\n",
    "print(f\"\\tMean for odd numbers: {mean(odds)}\")\n",
    "print(f\"Evens: {evens}\")\n",
    "print(f\"\\tMean for even numbers: {mean(evens)}\")\n",
    "\n",
    "print(f'\\nWhole lst_data: {lst_data}')\n",
    "print(f\"\\tMean: {mean(lst_data)}\")\n",
    "print(f\"\\tMedian: {median(lst_data)}\")\n"
   ]
  },
  {
   "cell_type": "code",
   "execution_count": 100,
   "metadata": {},
   "outputs": [
    {
     "name": "stdout",
     "output_type": "stream",
     "text": [
      "Unit test passed\n"
     ]
    }
   ],
   "source": [
    "def compute_bag_of_words(corpus: list) -> list[str]:\n",
    "    '''Returns a list of unique words from the corpus\n",
    "    \n",
    "    Args:\n",
    "        corpus: list of the sentences\n",
    "    \n",
    "        Returns: list of unique words from the corpus\n",
    "    '''\n",
    "    bag_of_words = []\n",
    "\n",
    "    for sentence in corpus:\n",
    "        words = sentence.split(' ')\n",
    "\n",
    "        for word in words:\n",
    "            if word not in bag_of_words:\n",
    "                bag_of_words.append(word)\n",
    "\n",
    "    bag_of_words = sorted(bag_of_words)\n",
    "\n",
    "    return bag_of_words\n",
    "\n",
    "\n",
    "def tokenize(txt: str) -> list:\n",
    "    '''Converts a sentence txt to a vector\n",
    "    \n",
    "    Args:\n",
    "        txt: a sentence to be tokenized\n",
    "\n",
    "    Returns:\n",
    "        vector: a list of numbers representing the sentence\n",
    "    '''\n",
    "\n",
    "    corpus = [\n",
    "        \"Tôi thích môn Toán\",\n",
    "        \"Tôi thích AI\",\n",
    "        \"Tôi thích âm nhạc\"\n",
    "    ]\n",
    "\n",
    "    # Compute the bag_of_words\n",
    "    bag_of_words = compute_bag_of_words(corpus)\n",
    "    \n",
    "    # Initialize a vector\n",
    "    vector = [0 for _ in range(len(bag_of_words))]\n",
    "\n",
    "    # Loop through each word in txt to generate a vector\n",
    "    for word in txt.split(' '):\n",
    "        index = bag_of_words.index(word)\n",
    "        \n",
    "        # Update occurrences of word in vector\n",
    "        vector[index] += 1\n",
    "\n",
    "    return vector\n",
    "\n",
    "tokenize('Tôi thích AI thích Toán')\n",
    "\n",
    "\n",
    "assert tokenize('Tôi thích AI thích Toán') == [1, 1, 1, 0, 0, 2, 0]\n",
    "print('Unit test passed')"
   ]
  },
  {
   "cell_type": "code",
   "execution_count": 108,
   "metadata": {},
   "outputs": [
    {
     "name": "stdout",
     "output_type": "stream",
     "text": [
      "All unit tests passed!\n"
     ]
    }
   ],
   "source": [
    "# Section 8: Algorithms on List\n",
    "\n",
    "def search_first_none(lst_data: list) -> int:\n",
    "    '''Search for the first None value in lst_data and return its index\n",
    "    or return -1 if not found\n",
    "    \n",
    "    Args:\n",
    "        lst_data: list of values to search for None\n",
    "\n",
    "    Returns:\n",
    "        result: the index of the first None value, or -1 if not found\n",
    "    '''\n",
    "\n",
    "    result = -1\n",
    "\n",
    "    # Loop through lst_data and search for the first None value\n",
    "    for index, val in enumerate(lst_data):\n",
    "        if val is None:\n",
    "            return index\n",
    "\n",
    "    return result\n",
    "\n",
    "\n",
    "def search_all_none(lst_data: list) -> list[int]:\n",
    "    '''Search for the all None values in lst_data and return its index\n",
    "    or return a blank list if not found\n",
    "    \n",
    "    Args:\n",
    "        lst_data: list of values to search for None\n",
    "\n",
    "    Returns:\n",
    "        result: the index of the first None value, or [] if not found\n",
    "    '''\n",
    "\n",
    "    result = []\n",
    "\n",
    "    # Loop through lst_data and search for the None values\n",
    "    for index, val in enumerate(lst_data):\n",
    "        if val is None:\n",
    "            result.append(index)\n",
    "\n",
    "    return result\n",
    "\n",
    "lst_data = [1, 1.1, None, 1.4, None, 1.5, None, 2.0]\n",
    "\n",
    "assert search_first_none(lst_data) == 2\n",
    "assert search_first_none([1, 2, 3]) == -1\n",
    "\n",
    "assert search_all_none(lst_data) == [2, 4, 6]\n",
    "\n",
    "print('All unit tests passed!')\n",
    "\n"
   ]
  },
  {
   "cell_type": "code",
   "execution_count": 151,
   "metadata": {},
   "outputs": [
    {
     "name": "stdout",
     "output_type": "stream",
     "text": [
      "[1, 1.1, 1.1, 1.4, 1.4, 1.5, 1.5, 2.0]\n"
     ]
    }
   ],
   "source": [
    "# Section 9: Interpolation for List (Time-series)\n",
    "\n",
    "def search_end(data: list, start: int) -> int:\n",
    "    '''Search for the not None value in `data`, starting fron `start` index\n",
    "    \n",
    "    Args:\n",
    "        data: List of the data to search for end\n",
    "        start: index to start searching from\n",
    "\n",
    "    Returns:\n",
    "        end_index: index of the end\n",
    "    '''\n",
    "    \n",
    "    end_index = len(data) # Maximum of end is the end of the data\n",
    "\n",
    "    for i in range(start + 1, len(data)):\n",
    "        next_value = data[i]\n",
    "\n",
    "        if next_value is not None:\n",
    "            end_index = i\n",
    "            break\n",
    "\n",
    "    return end_index\n",
    "\n",
    "\n",
    "def interpolate_nn(lst_data):\n",
    "    '''Interpolate nearest neighbor for None values in lst_data\n",
    "    \n",
    "    Args:\n",
    "        lst_data: data to interpolate\n",
    "        \n",
    "    Returns:\n",
    "        lst_data: list of data filled with nearest neighbors\n",
    "    '''\n",
    "\n",
    "    for _ in range(len(lst_data)):\n",
    "        none_position = search_first_none(lst_data)\n",
    "        \n",
    "        # Case: None is not in the list\n",
    "        if none_position == -1:\n",
    "            return lst_data\n",
    "        \n",
    "        begin = none_position - 1\n",
    "        # end = search_end(lst_data, none_position)\n",
    "        \n",
    "        # if begin < 0:   # none_position is at the beginning of lst data\n",
    "        #     lst_data[none_position] = lst_data[begin]\n",
    "        # elif end >= len(lst_data) - 1:    # none_position is end of the lst_data\n",
    "        #     lst_data[none_position] = lst_data[begin]\n",
    "        # else:\n",
    "            # lst_data[none_position] = lst_data[begin]\n",
    "\n",
    "        lst_data[none_position] = lst_data[begin]\n",
    "\n",
    "    return lst_data\n",
    "\n",
    "\n",
    "\n",
    "lst_data = [1, 1.1, None, 1.4, None, 1.5, None, 2.0]\n",
    "\n",
    "\n",
    "print(interpolate_nn(lst_data))"
   ]
  },
  {
   "cell_type": "code",
   "execution_count": 150,
   "metadata": {},
   "outputs": [
    {
     "name": "stdout",
     "output_type": "stream",
     "text": [
      "[1, 1.1, 1.1, 1.4, 1.4, 1.5, 1.5, 2.0, 2.0]\n"
     ]
    }
   ],
   "source": [
    "print(interpolate_nn([1, 1.1, None, 1.4, None, 1.5, None, 2.0, None]))\n"
   ]
  },
  {
   "cell_type": "code",
   "execution_count": null,
   "metadata": {},
   "outputs": [],
   "source": []
  },
  {
   "cell_type": "code",
   "execution_count": 142,
   "metadata": {},
   "outputs": [
    {
     "name": "stdout",
     "output_type": "stream",
     "text": [
      "3 4\n"
     ]
    }
   ],
   "source": [
    "\n",
    "# print(find_end(lst_data, 3))\n",
    "\n",
    "lst_data = [1, 1, 1, None]\n",
    "start = search_first_none(lst_data)\n",
    "end = find_end(lst_data, start)\n",
    "\n",
    "print(start, end)\n"
   ]
  },
  {
   "cell_type": "code",
   "execution_count": null,
   "metadata": {},
   "outputs": [],
   "source": []
  }
 ],
 "metadata": {
  "kernelspec": {
   "display_name": "pytorch",
   "language": "python",
   "name": "python3"
  },
  "language_info": {
   "codemirror_mode": {
    "name": "ipython",
    "version": 3
   },
   "file_extension": ".py",
   "mimetype": "text/x-python",
   "name": "python",
   "nbconvert_exporter": "python",
   "pygments_lexer": "ipython3",
   "version": "3.10.14"
  }
 },
 "nbformat": 4,
 "nbformat_minor": 2
}
