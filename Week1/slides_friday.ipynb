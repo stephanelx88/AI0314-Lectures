{
 "cells": [
  {
   "cell_type": "code",
   "execution_count": 3,
   "metadata": {},
   "outputs": [
    {
     "name": "stdout",
     "output_type": "stream",
     "text": [
      "learning_rate 0.1\n",
      "optimizer Adam\n",
      "metric Accuracy\n"
     ]
    }
   ],
   "source": [
    "parameters = {\n",
    "    'learning_rate': 0.1,\n",
    "    'optimizer': 'Adam',\n",
    "    'metric': 'Accuracy'\n",
    "}\n",
    "\n",
    "for key in parameters:\n",
    "    print(key, parameters.get(key))"
   ]
  },
  {
   "cell_type": "code",
   "execution_count": 5,
   "metadata": {},
   "outputs": [
    {
     "name": "stdout",
     "output_type": "stream",
     "text": [
      "3.142593654340044\n"
     ]
    }
   ],
   "source": [
    "# Implementation to estimate pi number\n",
    "\n",
    "def estimate_pi(n=1000):\n",
    "    pi = 0\n",
    "\n",
    "    for i in range(1, n):\n",
    "        pi += (-1)**(i+1) / (2*i - 1)\n",
    "\n",
    "    pi = 4*pi\n",
    "\n",
    "    return pi\n",
    "\n",
    "print(estimate_pi())"
   ]
  },
  {
   "cell_type": "code",
   "execution_count": 6,
   "metadata": {},
   "outputs": [
    {
     "name": "stdout",
     "output_type": "stream",
     "text": [
      "3.1415926533405423\n"
     ]
    }
   ],
   "source": [
    "# Implementation to estimate pi according to Nilankantha Series\n",
    "\n",
    "def pi_nilan(n=1000):\n",
    "\n",
    "    total = 0\n",
    "\n",
    "    for i in range(n):\n",
    "        total += ((-1)**i) / ((2*i + 2)*(2*i + 3)*(2*i + 4))\n",
    "\n",
    "    pi = 3 + 4*total\n",
    "\n",
    "    return pi\n",
    "\n",
    "\n",
    "print(pi_nilan())"
   ]
  },
  {
   "cell_type": "code",
   "execution_count": 8,
   "metadata": {},
   "outputs": [
    {
     "name": "stdout",
     "output_type": "stream",
     "text": [
      "n=1 e=2.0\n",
      "n=31 e=2.6756963059146854\n",
      "n=61 e=2.696330496282266\n",
      "n=91 e=2.703495102855847\n",
      "n=121 e=2.707133688188016\n",
      "n=151 e=2.7093351934705265\n",
      "n=181 e=2.7108105924871326\n",
      "n=211 e=2.711868260386403\n",
      "n=241 e=2.712663605701229\n",
      "n=271 e=2.7132834531470245\n",
      "n=301 e=2.7137801179447605\n",
      "n=331 e=2.714187001414602\n",
      "n=361 e=2.714526430047828\n",
      "n=391 e=2.7148138942335738\n",
      "n=421 e=2.7150604786357246\n",
      "n=451 e=2.71527432454117\n",
      "n=481 e=2.7154615460084237\n"
     ]
    }
   ],
   "source": [
    "def estimate_euler(n=10):\n",
    "\n",
    "    return (1 + 1/n)**n\n",
    "\n",
    "for n in range(1, 500, 30):\n",
    "    print(f\"n={n} e={estimate_euler(n)}\")"
   ]
  },
  {
   "cell_type": "code",
   "execution_count": 15,
   "metadata": {},
   "outputs": [
    {
     "data": {
      "image/png": "[encoded data removed]",
      "text/plain": [
       "<Figure size 640x480 with 1 Axes>"
      ]
     },
     "metadata": {},
     "output_type": "display_data"
    }
   ],
   "source": [
    "import numpy as np\n",
    "import matplotlib.pyplot as plt\n",
    "import math\n",
    "\n",
    "x = np.linspace(0.1, 50, 100)\n",
    "\n",
    "e = [estimate_euler(val) for val in x]\n",
    "\n",
    "# Plot\n",
    "plt.plot(x, e, color='green')\n",
    "\n",
    "plt.axhline(y=math.e, color='red')\n",
    "\n",
    "plt.grid(True)"
   ]
  },
  {
   "cell_type": "code",
   "execution_count": 18,
   "metadata": {},
   "outputs": [
    {
     "name": "stdout",
     "output_type": "stream",
     "text": [
      "2.7182818284590455\n"
     ]
    }
   ],
   "source": [
    "# Estimate e number\n",
    "\n",
    "\n",
    "def factorial(n):\n",
    "    if n == 0:\n",
    "        return 1\n",
    "    \n",
    "    return n * factorial(n - 1)\n",
    "\n",
    "\n",
    "# Function to estimate e\n",
    "\n",
    "def estimate_e(n=100):\n",
    "    e = 1\n",
    "\n",
    "    for i in range(1, n):\n",
    "        e += 1 / factorial(i)\n",
    "\n",
    "    return e\n",
    "\n",
    "print(estimate_e())"
   ]
  },
  {
   "cell_type": "code",
   "execution_count": 21,
   "metadata": {},
   "outputs": [
    {
     "name": "stdout",
     "output_type": "stream",
     "text": [
      "0 - 26.0\n",
      "1 - 14.923076923076923\n",
      "2 - 10.812053925455988\n",
      "3 - 10.030495203889796\n",
      "4 - 10.000046356507898\n",
      "5 - 10.000000000107445\n",
      "6 - 10.0\n",
      "7 - 10.0\n",
      "8 - 10.0\n",
      "9 - 10.0\n",
      "10 - 10.0\n",
      "11 - 10.0\n",
      "12 - 10.0\n",
      "13 - 10.0\n",
      "14 - 10.0\n",
      "15 - 10.0\n",
      "16 - 10.0\n",
      "17 - 10.0\n",
      "18 - 10.0\n",
      "19 - 10.0\n",
      "10.0\n"
     ]
    }
   ],
   "source": [
    "# Implement a function to compute quadratic root for number N\n",
    "\n",
    "def estimate_quad_root(N=100.0, n=5):\n",
    "    '''\n",
    "    Estimate the quadratic root of N using Newton Method\n",
    "\n",
    "    Args:\n",
    "        N (float): the number to be calculated the quadratic root\n",
    "        n (int): number of times to run\n",
    "\n",
    "    Returns:\n",
    "        result (float): the estimation of the quadratic root of N\n",
    "\n",
    "    '''\n",
    "\n",
    "    result = N / 2\n",
    "\n",
    "    for i in range(n):\n",
    "        result = (result + N/result) / 2\n",
    "        print(f\"{i} - {result}\")\n",
    "\n",
    "    \n",
    "    return result\n",
    "\n",
    "\n",
    "print(estimate_quad_root(100, 20))"
   ]
  },
  {
   "cell_type": "code",
   "execution_count": 24,
   "metadata": {},
   "outputs": [
    {
     "name": "stdout",
     "output_type": "stream",
     "text": [
      "3125\n"
     ]
    }
   ],
   "source": [
    "a = 5\n",
    "\n",
    "result = 1\n",
    "for i in range(a):\n",
    "    x = a**(1/2)\n",
    "\n",
    "    result *= a\n",
    "print(result)"
   ]
  },
  {
   "cell_type": "code",
   "execution_count": 28,
   "metadata": {},
   "outputs": [
    {
     "name": "stdout",
     "output_type": "stream",
     "text": [
      "0 3.34370152488211\n",
      "1 4.088827169789712\n",
      "2 4.521519197012058\n",
      "3 4.754744576216507\n",
      "4 4.8758304811675455\n",
      "5 4.937524927110518\n",
      "6 4.9686642707625746\n",
      "7 4.984307509956912\n",
      "8 4.992147588942514\n",
      "9 4.996072251750626\n",
      "10 4.998035740043595\n",
      "11 4.999017773544916\n",
      "12 4.999508862650869\n",
      "13 4.999754425294741\n",
      "14 4.99987721113966\n",
      "15 4.999938605192898\n",
      "16 4.999969302502215\n",
      "17 4.99998465122755\n",
      "18 4.999992325607885\n",
      "19 4.9999961628024705\n",
      "20 4.999998081400867\n",
      "21 4.999999040700342\n",
      "22 4.999999520350148\n",
      "23 4.9999997601750685\n",
      "24 4.9999998800875325\n",
      "25 4.999999940043766\n",
      "26 4.999999970021883\n",
      "27 4.999999985010941\n",
      "28 4.999999992505471\n",
      "29 4.999999996252735\n",
      "4.999999996252735\n"
     ]
    }
   ],
   "source": [
    "# Compute x = sqrt(sqrt(a))... n_times\n",
    "import math\n",
    "\n",
    "\n",
    "def compute_x(n=10, a=5):\n",
    "\n",
    "    result = math.sqrt(a)\n",
    "\n",
    "    for _ in range(n):\n",
    "        result = math.sqrt(a * result)\n",
    "        print(f\"{_} {result}\")\n",
    "\n",
    "    return result\n",
    "\n",
    "print(compute_x(n=30, a=5))"
   ]
  },
  {
   "cell_type": "code",
   "execution_count": 30,
   "metadata": {},
   "outputs": [
    {
     "name": "stdout",
     "output_type": "stream",
     "text": [
      "head=52, tail=48\n"
     ]
    }
   ],
   "source": [
    "# Simulation of coin tossing\n",
    "import random\n",
    "\n",
    "# Initialize number of heads\n",
    "n_heads = 0\n",
    "\n",
    "# Initialize number of tails\n",
    "n_tails = 0\n",
    "\n",
    "for _ in range(100):\n",
    "    n = random.random()\n",
    "\n",
    "    if n < 0.5:\n",
    "        n_heads += 1\n",
    "    else:\n",
    "        n_tails += 1\n",
    "\n",
    "print(f\"head={n_heads}, tail={n_tails}\")"
   ]
  },
  {
   "cell_type": "code",
   "execution_count": 34,
   "metadata": {},
   "outputs": [
    {
     "name": "stdout",
     "output_type": "stream",
     "text": [
      "3.140824\n"
     ]
    }
   ],
   "source": [
    "# Estimate pi based on randomness\n",
    "\n",
    "def estimate_pi(N=1000):\n",
    "\n",
    "    # Number of points in the square with radius = 1\n",
    "    n_square = N\n",
    "\n",
    "    # Number of points in the circle with side = 2\n",
    "    n_circle = 0\n",
    "\n",
    "    for _ in range(N):\n",
    "        # x, y domain = [-1, 1]\n",
    "        x = random.random()*2 - 1\n",
    "        y = random.random()*2 - 1\n",
    "\n",
    "        # Check if the point(x, y) is within the circle\n",
    "        if (math.sqrt(x**2 + y**2) <= 1.0):\n",
    "            n_circle += 1\n",
    "\n",
    "    \n",
    "    # Compute pi\n",
    "\n",
    "    pi = (n_circle / n_square) * 4\n",
    "\n",
    "    return pi\n",
    "\n",
    "print(estimate_pi(1000000))\n",
    "\n"
   ]
  },
  {
   "cell_type": "code",
   "execution_count": 47,
   "metadata": {},
   "outputs": [
    {
     "data": {
      "text/plain": [
       "[<matplotlib.lines.Line2D at 0x1f0348745e0>]"
      ]
     },
     "execution_count": 47,
     "metadata": {},
     "output_type": "execute_result"
    },
    {
     "data": {
      "image/png": "[encoded data removed]",
      "text/plain": [
       "<Figure size 640x480 with 1 Axes>"
      ]
     },
     "metadata": {},
     "output_type": "display_data"
    }
   ],
   "source": [
    "# Plot a circle\n",
    "import numpy as np\n",
    "import matplotlib.pyplot as plt\n",
    "\n",
    "# x values\n",
    "# x = np.linspace(-1, 1, 10000)\n",
    "x = np.arange(-1, 1, 1e-5)\n",
    "\n",
    "y = np.array([math.sqrt(1 - val**2) for val in x])\n",
    "\n",
    "y2 = np.array([-math.sqrt(1 - val**2) for val in x])\n",
    "\n",
    "plt.plot(x, y, color='green')\n",
    "plt.plot(x, y2, color='blue')\n",
    "\n",
    "\n"
   ]
  },
  {
   "cell_type": "code",
   "execution_count": 48,
   "metadata": {},
   "outputs": [
    {
     "name": "stdout",
     "output_type": "stream",
     "text": [
      "3.141592616416181\n"
     ]
    }
   ],
   "source": [
    "# Estimate pi\n",
    "\n",
    "def f(x):\n",
    "    return math.sqrt(1- x**2)\n",
    "\n",
    "\n",
    "step = 1e-5\n",
    "x_data = np.arange(-1, 1, step)\n",
    "\n",
    "y_data = [f(val) for val in x]\n",
    "\n",
    "areas = [y*step for y in y_data]\n",
    "\n",
    "area = sum(areas)\n",
    "\n",
    "print(area*2)"
   ]
  },
  {
   "cell_type": "code",
   "execution_count": null,
   "metadata": {},
   "outputs": [],
   "source": []
  }
 ],
 "metadata": {
  "kernelspec": {
   "display_name": "pytorch",
   "language": "python",
   "name": "python3"
  },
  "language_info": {
   "codemirror_mode": {
    "name": "ipython",
    "version": 3
   },
   "file_extension": ".py",
   "mimetype": "text/x-python",
   "name": "python",
   "nbconvert_exporter": "python",
   "pygments_lexer": "ipython3",
   "version": "3.10.14"
  }
 },
 "nbformat": 4,
 "nbformat_minor": 2
}
