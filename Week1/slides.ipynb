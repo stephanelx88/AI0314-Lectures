{
 "cells": [
  {
   "cell_type": "code",
   "execution_count": 45,
   "metadata": {},
   "outputs": [
    {
     "name": "stdout",
     "output_type": "stream",
     "text": [
      "hello world\n"
     ]
    }
   ],
   "source": [
    "print('hello world')"
   ]
  },
  {
   "cell_type": "code",
   "execution_count": 46,
   "metadata": {},
   "outputs": [
    {
     "name": "stdout",
     "output_type": "stream",
     "text": [
      "Help on function addition in module __main__:\n",
      "\n",
      "addition(a, b)\n",
      "    Calculates the sum of number a and number b\n",
      "    \n",
      "    Args:\n",
      "        a (float): The first number to add\n",
      "        b (float): The second number to add\n",
      "    \n",
      "    Returns:\n",
      "        sum (float): the sum of a and b\n",
      "\n",
      "14\n"
     ]
    }
   ],
   "source": [
    "# Implement a function to add 2 numbers\n",
    "\n",
    "def addition(a, b):\n",
    "    '''\n",
    "    Calculates the sum of number a and number b\n",
    "\n",
    "    Args:\n",
    "        a (float): The first number to add\n",
    "        b (float): The second number to add\n",
    "\n",
    "    Returns:\n",
    "        sum (float): the sum of a and b\n",
    "    '''\n",
    "    sum = a + b\n",
    "    return sum\n",
    "\n",
    "help(addition)\n",
    "\n",
    "assert addition(1, 2) == 3\n",
    "print(addition(6, 8))"
   ]
  },
  {
   "cell_type": "code",
   "execution_count": 47,
   "metadata": {},
   "outputs": [
    {
     "name": "stdout",
     "output_type": "stream",
     "text": [
      "Help on function compute_pcts in module __main__:\n",
      "\n",
      "compute_pcts(x, y)\n",
      "    Calculates the percentages for x and y out of their total (x + y)\n",
      "    \n",
      "    Args:\n",
      "        x (float): The first number\n",
      "        y (float): The second number\n",
      "    \n",
      "    Returns:\n",
      "        x_pct, y_pct (float): The percentages for x and y\n",
      "\n",
      "(70.0, 30.0)\n"
     ]
    }
   ],
   "source": [
    "# Compute percentages of 2 numbers\n",
    "\n",
    "def compute_pcts(x, y):\n",
    "    '''\n",
    "    Calculates the percentages for x and y out of their total (x + y)\n",
    "\n",
    "    Args:\n",
    "        x (float): The first number\n",
    "        y (float): The second number\n",
    "\n",
    "    Returns:\n",
    "        x_pct, y_pct (float): The percentages for x and y\n",
    "    '''\n",
    "\n",
    "    x_pct, y_pct = None, None\n",
    "    total = x + y\n",
    "\n",
    "    x_pct = x / total * 100\n",
    "    y_pct = y / total * 100\n",
    "\n",
    "    return x_pct, y_pct\n",
    "\n",
    "help(compute_pcts)\n",
    "\n",
    "print(compute_pcts(7, 3))"
   ]
  },
  {
   "cell_type": "code",
   "execution_count": 48,
   "metadata": {},
   "outputs": [
    {
     "name": "stdout",
     "output_type": "stream",
     "text": [
      "hello world\n",
      "<class 'int'>\n"
     ]
    }
   ],
   "source": [
    "# Built-in functions\n",
    "print('hello world')\n",
    "print(type(3))"
   ]
  },
  {
   "cell_type": "code",
   "execution_count": 49,
   "metadata": {},
   "outputs": [
    {
     "name": "stdout",
     "output_type": "stream",
     "text": [
      "1.0\n",
      "2.0\n"
     ]
    }
   ],
   "source": [
    "# Math module\n",
    "import math\n",
    "\n",
    "# Absolute value of x\n",
    "n1 = 1\n",
    "n2 = -2\n",
    "\n",
    "print(math.fabs(n1))\n",
    "print(math.fabs(n2))"
   ]
  },
  {
   "cell_type": "code",
   "execution_count": 50,
   "metadata": {},
   "outputs": [
    {
     "name": "stdout",
     "output_type": "stream",
     "text": [
      "1.3862943611198906\n",
      "1.0\n"
     ]
    }
   ],
   "source": [
    "# log(x)\n",
    "\n",
    "import math\n",
    "\n",
    "x = 4\n",
    "\n",
    "print(math.log(x))\n",
    "print(math.log(math.e))\n"
   ]
  },
  {
   "cell_type": "code",
   "execution_count": 51,
   "metadata": {},
   "outputs": [
    {
     "name": "stdout",
     "output_type": "stream",
     "text": [
      "0.9092974268256817\n"
     ]
    }
   ],
   "source": [
    "# sine of x\n",
    "\n",
    "import math\n",
    "\n",
    "x = 2\n",
    "print(math.sin(x))"
   ]
  },
  {
   "cell_type": "code",
   "execution_count": 52,
   "metadata": {},
   "outputs": [
    {
     "name": "stdout",
     "output_type": "stream",
     "text": [
      "7.38905609893065\n"
     ]
    }
   ],
   "source": [
    "import math\n",
    "\n",
    "x = 2\n",
    "print(math.exp(x))\n"
   ]
  },
  {
   "cell_type": "code",
   "execution_count": 53,
   "metadata": {},
   "outputs": [
    {
     "name": "stdout",
     "output_type": "stream",
     "text": [
      "2.0\n"
     ]
    }
   ],
   "source": [
    "import math\n",
    "\n",
    "x = 4\n",
    "print(math.sqrt(x))"
   ]
  },
  {
   "cell_type": "code",
   "execution_count": 54,
   "metadata": {},
   "outputs": [
    {
     "name": "stdout",
     "output_type": "stream",
     "text": [
      "-1.0\n"
     ]
    }
   ],
   "source": [
    "# cosine of x\n",
    "import math\n",
    "\n",
    "x = math.pi\n",
    "\n",
    "print(math.cos(x))"
   ]
  },
  {
   "cell_type": "code",
   "execution_count": 55,
   "metadata": {},
   "outputs": [
    {
     "name": "stdout",
     "output_type": "stream",
     "text": [
      "2.718281828459045\n",
      "3.141592653589793\n"
     ]
    }
   ],
   "source": [
    "# The e number and the pi number\n",
    "import math\n",
    "\n",
    "e = math.e\n",
    "pi = math.pi\n",
    "\n",
    "print(e)\n",
    "print(pi)"
   ]
  },
  {
   "cell_type": "code",
   "execution_count": 5,
   "metadata": {},
   "outputs": [
    {
     "data": {
      "image/png": "[encoded data removed]",
      "text/plain": [
       "<Figure size 640x480 with 1 Axes>"
      ]
     },
     "metadata": {},
     "output_type": "display_data"
    }
   ],
   "source": [
    "import numpy as np\n",
    "\n",
    "import matplotlib.pyplot as plt\n",
    "\n",
    "# Define the range of x--values (excluding non-positive values)\n",
    "x = np.linspace(0.01, 50, 100)\n",
    "\n",
    "# Calculate the corresponding y values\n",
    "y = np.log(x)\n",
    "# print(y)\n",
    "\n",
    "# Create the plot\n",
    "plt.plot(x, y, label=\"log(x)\")\n",
    "\n",
    "# Add labels and title\n",
    "plt.xlabel(\"x\")\n",
    "plt.ylabel(\"log(x)\")\n",
    "plt.title(\"Plot of log(x) function\")\n",
    "\n",
    "# Add legend\n",
    "plt.legend()\n",
    "\n",
    "# Show the plot\n",
    "plt.grid(True)\n",
    "plt.show()"
   ]
  },
  {
   "cell_type": "code",
   "execution_count": 1,
   "metadata": {},
   "outputs": [
    {
     "name": "stdout",
     "output_type": "stream",
     "text": [
      "hello world\n"
     ]
    }
   ],
   "source": [
    "print('hello world')"
   ]
  },
  {
   "cell_type": "code",
   "execution_count": 10,
   "metadata": {},
   "outputs": [
    {
     "name": "stdout",
     "output_type": "stream",
     "text": [
      "1.7149137643235048\n"
     ]
    }
   ],
   "source": [
    "# Design a surprise function\n",
    "import random\n",
    "\n",
    "p_red = random.random()\n",
    "\n",
    "def surprise(p):\n",
    "    return 1 / p\n",
    "\n",
    "print(surprise(p_red))"
   ]
  },
  {
   "cell_type": "code",
   "execution_count": 26,
   "metadata": {},
   "outputs": [
    {
     "name": "stderr",
     "output_type": "stream",
     "text": [
      "C:\\Users\\Mini Pc\\AppData\\Local\\Temp\\ipykernel_5056\\2618836448.py:18: UserWarning: No artists with labels found to put in legend.  Note that artists whose label start with an underscore are ignored when legend() is called with no argument.\n",
      "  plt.legend()\n"
     ]
    },
    {
     "data": {
      "image/png": "[encoded data removed]",
      "text/plain": [
       "<Figure size 640x480 with 1 Axes>"
      ]
     },
     "metadata": {},
     "output_type": "display_data"
    }
   ],
   "source": [
    "import matplotlib.pyplot as plt\n",
    "import numpy as np\n",
    "\n",
    "p_e = np.linspace(0.01, 1, 40)\n",
    "surprises = [surprise(p) for p in p_e]\n",
    "information = [-np.log(p) for p in p_e]\n",
    "\n",
    "# Plot the surprise function\n",
    "plt.plot(p_e, surprises, color='green')\n",
    "plt.plot(p_e, information, color='orange')\n",
    "\n",
    "# Add labels and title\n",
    "plt.xlabel('x')\n",
    "plt.ylabel('y')\n",
    "plt.title('Plot of surprise and information')\n",
    "\n",
    "# Add legend\n",
    "plt.legend()\n",
    "\n",
    "# Show the plot\n",
    "plt.grid(True)\n",
    "plt.show()"
   ]
  },
  {
   "cell_type": "code",
   "execution_count": 33,
   "metadata": {},
   "outputs": [
    {
     "name": "stdout",
     "output_type": "stream",
     "text": [
      "(0.04742587317756678, 0.9525741268224331)\n"
     ]
    }
   ],
   "source": [
    "# Implement softmax function\n",
    "import math\n",
    "\n",
    "def softmax(a=0, b=0):\n",
    "    '''\n",
    "    Calculates percentages for a and b\n",
    "\n",
    "    Args:\n",
    "        a (float): a number\n",
    "        b (float): b number\n",
    "\n",
    "    Returns:\n",
    "        a_pct (float): percentage of a\n",
    "        b_pct (float): percentage of b\n",
    "    '''\n",
    "\n",
    "    # Convert a and b to non-negative numbers\n",
    "    new_a = math.exp(a)\n",
    "    new_b = math.exp(b)\n",
    "\n",
    "    total = new_a + new_b\n",
    "\n",
    "    new_a_pct = new_a / total\n",
    "    new_b_pct = new_b / total\n",
    "    \n",
    "    return (new_a_pct, new_b_pct)\n",
    "\n",
    "\n",
    "a = 1\n",
    "b = 4\n",
    "\n",
    "print(softmax(a, b))"
   ]
  },
  {
   "cell_type": "code",
   "execution_count": 43,
   "metadata": {},
   "outputs": [
    {
     "name": "stdout",
     "output_type": "stream",
     "text": [
      "1003\n",
      "(0.09003057317038046, 0.24472847105479764, 0.6652409557748218)\n"
     ]
    }
   ],
   "source": [
    "# Improve softmax function to work with any number\n",
    "\n",
    "# Implement softmax function\n",
    "import math\n",
    "\n",
    "def improve_softmax(a=0, b=0, c=0):\n",
    "    '''\n",
    "    Calculates percentages for a and b\n",
    "\n",
    "    Args:\n",
    "        a (float): a number\n",
    "        b (float): b number\n",
    "        c (float): c number\n",
    "\n",
    "\n",
    "    Returns:\n",
    "        a_pct (float): percentage of a\n",
    "        b_pct (float): percentage of b\n",
    "        c_pct (float): percentage of c\n",
    "\n",
    "    '''\n",
    "\n",
    "    # Get max of 3 numbers\n",
    "    max_value = max(a, b, c)\n",
    "    print(max_value)\n",
    "\n",
    "    # Convert a, b, c to non-negative numbers\n",
    "    e_a = math.exp(a - max_value)\n",
    "    e_b = math.exp(b - max_value)\n",
    "    e_c = math.exp(c - max_value)\n",
    "\n",
    "    # Compute total\n",
    "    total = e_a + e_b + e_c\n",
    "\n",
    "    # Compute percentages\n",
    "    a_pct = e_a / total\n",
    "    b_pct = e_b / total\n",
    "    c_pct = e_c / total\n",
    "    \n",
    "    return (a_pct, b_pct, c_pct)\n",
    "\n",
    "\n",
    "a = 1001\n",
    "b = 1002\n",
    "c = 1003\n",
    "\n",
    "print(improve_softmax(a, b, c))"
   ]
  },
  {
   "cell_type": "code",
   "execution_count": 44,
   "metadata": {},
   "outputs": [
    {
     "name": "stdout",
     "output_type": "stream",
     "text": [
      "4.000999999999699\n"
     ]
    }
   ],
   "source": [
    "# Implement a function to compute derivative at point(x)\n",
    "\n",
    "def f(x):\n",
    "    return x**2 + 2*x\n",
    "\n",
    "def derivative(x, epsilon=0.001):\n",
    "    '''\n",
    "    Calculates the derivative of x when x changes very small (epsilon)\n",
    "\n",
    "    Args:\n",
    "        x (float): x value\n",
    "        epsilon (float): small change of x\n",
    "    '''\n",
    "\n",
    "    d = (f(x + epsilon) - f(x)) / epsilon\n",
    "    \n",
    "    return d\n",
    "\n",
    "\n",
    "print(derivative(1))"
   ]
  },
  {
   "cell_type": "code",
   "execution_count": 46,
   "metadata": {},
   "outputs": [
    {
     "name": "stdout",
     "output_type": "stream",
     "text": [
      "16.0\n",
      "2.0\n"
     ]
    }
   ],
   "source": [
    "# Alternative to If-else\n",
    "\n",
    "import math\n",
    "\n",
    "def compute_y(a, b):\n",
    "\n",
    "    # a constant\n",
    "    K = 10\n",
    "\n",
    "    result = (a / K)*math.sqrt(b) + ((K - a) / K) * b**2\n",
    "\n",
    "    return result\n",
    "\n",
    "print(compute_y(0, 4))\n",
    "print(compute_y(10, 4))\n",
    "\n"
   ]
  },
  {
   "cell_type": "code",
   "execution_count": 48,
   "metadata": {},
   "outputs": [
    {
     "name": "stdout",
     "output_type": "stream",
     "text": [
      "16.0\n"
     ]
    }
   ],
   "source": [
    "# Implement one-hot encoding for label\n",
    "\n",
    "import math\n",
    "import numpy as np\n",
    "\n",
    "def compute_y_using_vector(a, b):\n",
    "    '''Compute the value of y based on a and b\n",
    "    \n",
    "    Args:\n",
    "        a (int): Value of a = {0, 1, 2}\n",
    "        b (float): Value of b\n",
    "\n",
    "    Returns:\n",
    "        result (float): value of y based on a and b\n",
    "    '''\n",
    "\n",
    "    vector_v = np.array([0, 0, 0])\n",
    "    vector_v[a] = 1\n",
    "\n",
    "    vector_u = np.array([b**2, b**(1/2), b])\n",
    "\n",
    "    result = np.dot(vector_v, vector_u)\n",
    "\n",
    "    return result\n",
    "\n",
    "print(compute_y_using_vector(0, 4))\n",
    "\n",
    "\n"
   ]
  },
  {
   "cell_type": "code",
   "execution_count": 50,
   "metadata": {},
   "outputs": [
    {
     "name": "stdout",
     "output_type": "stream",
     "text": [
      "0.1\n"
     ]
    }
   ],
   "source": [
    "# Using dictionary to replace if-else\n",
    "\n",
    "options = {\n",
    "    1: 5,\n",
    "    'learning_rate': 0.1,\n",
    "    'optimizer': 'SGD'\n",
    "}\n",
    "\n",
    "print(options['learning_rate'])"
   ]
  },
  {
   "cell_type": "code",
   "execution_count": 60,
   "metadata": {},
   "outputs": [
    {
     "name": "stdout",
     "output_type": "stream",
     "text": [
      "Hello there\n",
      "Please enter your choice:\n",
      "      1 - Consultation to buy products\n",
      "      2 - Warranty\n",
      "      3 - Technical support\n",
      "\n",
      "Invalid choice!\n"
     ]
    }
   ],
   "source": [
    "# Rule-based chat bot\n",
    "\n",
    "print('Hello there')\n",
    "print(\"\"\"Please enter your choice:\n",
    "      1 - Consultation to buy products\n",
    "      2 - Warranty\n",
    "      3 - Technical support\n",
    "\"\"\")\n",
    "\n",
    "service_chosen = input('Please enter your choice:')\n",
    "\n",
    "if service_chosen == '1':\n",
    "    print('Which product would you like to buy?')\n",
    "    print(\"\"\"Please enter your choice:\n",
    "      1 - Phone\n",
    "      2 - Laptop\n",
    "      3 - Tablet\n",
    "    \"\"\")\n",
    "    \n",
    "    product_chosen = input('Please enter your choice:')\n",
    "    \n",
    "    if product_chosen in ['1', '2', '3']:\n",
    "        print('Thanks for buying!')\n",
    "    else:\n",
    "        print('Invalid choice. Bye!')\n",
    "elif service_chosen == '2':\n",
    "    print('Which info would you like to check warranty?')\n",
    "    print(\"\"\"Please enter your choice:\n",
    "      1 - Phone number\n",
    "      2 - Serial number\n",
    "    \"\"\")\n",
    "    \n",
    "    warranty_choice = input('Please enter your choice:')\n",
    "    \n",
    "    if warranty_choice in ['1', '2']:\n",
    "        print('Thanks for using our warranty service!')\n",
    "    else:\n",
    "        print('Invalid choice. Bye!')\n",
    "\n",
    "elif service_chosen == '3':\n",
    "    print('Which info would you like to check warranty?')\n",
    "    print(\"\"\"Please enter your choice:\n",
    "      1 - Phone number\n",
    "      2 - Serial number\n",
    "    \"\"\")\n",
    "    \n",
    "    warranty_choice = input('Please enter your choice:')\n",
    "    \n",
    "    if warranty_choice in ['1', '2']:\n",
    "        print('Thanks for using our warranty service!')\n",
    "    else:\n",
    "        print('Invalid choice. Bye!')\n",
    "\n",
    "else:\n",
    "    print('Invalid choice!')"
   ]
  },
  {
   "cell_type": "code",
   "execution_count": null,
   "metadata": {},
   "outputs": [],
   "source": []
  }
 ],
 "metadata": {
  "kernelspec": {
   "display_name": "pytorch",
   "language": "python",
   "name": "python3"
  },
  "language_info": {
   "codemirror_mode": {
    "name": "ipython",
    "version": 3
   },
   "file_extension": ".py",
   "mimetype": "text/x-python",
   "name": "python",
   "nbconvert_exporter": "python",
   "pygments_lexer": "ipython3",
   "version": "3.10.14"
  }
 },
 "nbformat": 4,
 "nbformat_minor": 2
}
